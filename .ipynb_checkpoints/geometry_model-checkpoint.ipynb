{
 "cells": [
  {
   "cell_type": "code",
   "execution_count": 155,
   "metadata": {},
   "outputs": [],
   "source": [
    "import json\n",
    "import requests\n",
    "from shapely.geometry import Polygon\n",
    "url = \"https://qua-kit.ethz.ch/exercise/33/1686/geometry\" # This is the geojson data to read "
   ]
  },
  {
   "cell_type": "code",
   "execution_count": 156,
   "metadata": {},
   "outputs": [],
   "source": [
    "%%bash\n",
    "touch toyeg.geojson"
   ]
  },
  {
   "cell_type": "code",
   "execution_count": 157,
   "metadata": {},
   "outputs": [],
   "source": [
    "# import geometry from url\n",
    "# (optional) save it to geojson locally \n",
    "f = requests.get(url).text\n",
    "with open('toyeg.geojson', 'w') as f_geo:\n",
    "    f_geo.write(f)\n"
   ]
  },
  {
   "cell_type": "code",
   "execution_count": 123,
   "metadata": {},
   "outputs": [],
   "source": [
    "fp = []\n",
    "b = json.loads(f) # load: convert json --> python list \n",
    "for i, feature in enumerate(b[\"geometry\"][\"features\"]):\n",
    "    p = feature[\"properties\"] # p store all the properties \n",
    "    if 'special' not in p.keys():\n",
    "        \n",
    "        cg = feature['geometry']['coordinates'] # cg is the geometry coordinates of all surfaces\n",
    "        surface_t = cg[0][0] # can use other method to detect if it is really the top \n",
    "        surface_xy = [(it[0],it[1]) for it in surface_t]\n",
    "        footprint = Polygon(surface_xy)\n",
    "        # print(footprint.area)\n",
    "        # set new list that contains the info\n",
    "        fp.append({\"properties\":feature['properties'], \"polygon\": footprint})"
   ]
  },
  {
   "cell_type": "code",
   "execution_count": 164,
   "metadata": {},
   "outputs": [
    {
     "ename": "AttributeError",
     "evalue": "'list' object has no attribute 'get'",
     "output_type": "error",
     "traceback": [
      "\u001b[0;31m---------------------------------------------------------------------------\u001b[0m",
      "\u001b[0;31mAttributeError\u001b[0m                            Traceback (most recent call last)",
      "\u001b[0;32m<ipython-input-164-819f0601939d>\u001b[0m in \u001b[0;36m<module>\u001b[0;34m()\u001b[0m\n\u001b[1;32m      6\u001b[0m \u001b[0;32mfor\u001b[0m \u001b[0mi\u001b[0m\u001b[0;34m,\u001b[0m \u001b[0mfeature\u001b[0m \u001b[0;32min\u001b[0m \u001b[0menumerate\u001b[0m\u001b[0;34m(\u001b[0m\u001b[0mb\u001b[0m\u001b[0;34m[\u001b[0m\u001b[0;34m\"geometry\"\u001b[0m\u001b[0;34m]\u001b[0m\u001b[0;34m[\u001b[0m\u001b[0;34m\"features\"\u001b[0m\u001b[0;34m]\u001b[0m\u001b[0;34m)\u001b[0m\u001b[0;34m:\u001b[0m\u001b[0;34m\u001b[0m\u001b[0m\n\u001b[1;32m      7\u001b[0m     \u001b[0;32mif\u001b[0m \u001b[0;34m'special'\u001b[0m \u001b[0;32mnot\u001b[0m \u001b[0;32min\u001b[0m \u001b[0mfeature\u001b[0m\u001b[0;34m[\u001b[0m\u001b[0;34m\"properties\"\u001b[0m\u001b[0;34m]\u001b[0m\u001b[0;34m.\u001b[0m\u001b[0mkeys\u001b[0m\u001b[0;34m(\u001b[0m\u001b[0;34m)\u001b[0m\u001b[0;34m:\u001b[0m\u001b[0;34m\u001b[0m\u001b[0m\n\u001b[0;32m----> 8\u001b[0;31m         \u001b[0md\u001b[0m \u001b[0;34m=\u001b[0m \u001b[0mshape\u001b[0m\u001b[0;34m(\u001b[0m\u001b[0mfeature\u001b[0m\u001b[0;34m[\u001b[0m\u001b[0;34m'geometry'\u001b[0m\u001b[0;34m]\u001b[0m\u001b[0;34m[\u001b[0m\u001b[0;34m\"coordinates\"\u001b[0m\u001b[0;34m]\u001b[0m\u001b[0;34m[\u001b[0m\u001b[0;36m0\u001b[0m\u001b[0;34m]\u001b[0m\u001b[0;34m)\u001b[0m\u001b[0;34m\u001b[0m\u001b[0m\n\u001b[0m\u001b[1;32m      9\u001b[0m         \u001b[0mshapeunion\u001b[0m\u001b[0;34m.\u001b[0m\u001b[0mappend\u001b[0m\u001b[0;34m(\u001b[0m\u001b[0md\u001b[0m\u001b[0;34m)\u001b[0m\u001b[0;34m\u001b[0m\u001b[0m\n\u001b[1;32m     10\u001b[0m         \u001b[0mprint\u001b[0m\u001b[0;34m(\u001b[0m\u001b[0md\u001b[0m\u001b[0;34m)\u001b[0m\u001b[0;34m\u001b[0m\u001b[0m\n",
      "\u001b[0;32m/usr/local/lib/python3.7/site-packages/shapely/geometry/geo.py\u001b[0m in \u001b[0;36mshape\u001b[0;34m(context)\u001b[0m\n\u001b[1;32m     27\u001b[0m     \u001b[0;32melse\u001b[0m\u001b[0;34m:\u001b[0m\u001b[0;34m\u001b[0m\u001b[0m\n\u001b[1;32m     28\u001b[0m         \u001b[0mob\u001b[0m \u001b[0;34m=\u001b[0m \u001b[0mcontext\u001b[0m\u001b[0;34m\u001b[0m\u001b[0m\n\u001b[0;32m---> 29\u001b[0;31m     \u001b[0mgeom_type\u001b[0m \u001b[0;34m=\u001b[0m \u001b[0mob\u001b[0m\u001b[0;34m.\u001b[0m\u001b[0mget\u001b[0m\u001b[0;34m(\u001b[0m\u001b[0;34m\"type\"\u001b[0m\u001b[0;34m)\u001b[0m\u001b[0;34m.\u001b[0m\u001b[0mlower\u001b[0m\u001b[0;34m(\u001b[0m\u001b[0;34m)\u001b[0m\u001b[0;34m\u001b[0m\u001b[0m\n\u001b[0m\u001b[1;32m     30\u001b[0m     \u001b[0;32mif\u001b[0m \u001b[0mgeom_type\u001b[0m \u001b[0;34m==\u001b[0m \u001b[0;34m\"point\"\u001b[0m\u001b[0;34m:\u001b[0m\u001b[0;34m\u001b[0m\u001b[0m\n\u001b[1;32m     31\u001b[0m         \u001b[0;32mreturn\u001b[0m \u001b[0mPoint\u001b[0m\u001b[0;34m(\u001b[0m\u001b[0mob\u001b[0m\u001b[0;34m[\u001b[0m\u001b[0;34m\"coordinates\"\u001b[0m\u001b[0;34m]\u001b[0m\u001b[0;34m)\u001b[0m\u001b[0;34m\u001b[0m\u001b[0m\n",
      "\u001b[0;31mAttributeError\u001b[0m: 'list' object has no attribute 'get'"
     ]
    }
   ],
   "source": [
    "# test for Python Geo Interface\n",
    "from shapely.geometry import shape\n",
    "from shapely.ops import cascaded_union\n",
    "b = json.loads(f)\n",
    "shapeunion = []\n",
    "for i, feature in enumerate(b[\"geometry\"][\"features\"]):\n",
    "    if 'special' not in feature[\"properties\"].keys():\n",
    "        d = shape(feature['geometry'][\"coordinates\"][0])\n",
    "        shapeunion.append(d)\n",
    "        print(d)\n",
    "cascaded_union(shapeunion)"
   ]
  },
  {
   "cell_type": "code",
   "execution_count": 133,
   "metadata": {},
   "outputs": [
    {
     "name": "stdout",
     "output_type": "stream",
     "text": [
      "2982.2601262237877\n",
      "993.7477526889415\n",
      "993.7472866603639\n",
      "993.500346572604\n",
      "993.746433900902\n",
      "3040.83710111666\n",
      "3015.1558881648816\n",
      "3015.1559905267204\n",
      "993.5001004063524\n",
      "3040.836882042073\n",
      "993.5003465728369\n",
      "993.5002188633662\n",
      "993.4999662190676\n",
      "993.7463591287378\n",
      "993.5004696559627\n",
      "993.5004631776828\n",
      "993.7472911858931\n",
      "993.5010715591488\n",
      "3008.1927104687493\n",
      "993.5005273811985\n",
      "993.7472866603639\n",
      "993.7472866603639\n",
      "993.7470385413617\n",
      "993.7475001448765\n",
      "993.7464362138417\n",
      "993.7467945236131\n",
      "993.5003442596644\n",
      "3040.83712898416\n",
      "993.7465592970257\n",
      "993.7472866603639\n",
      "993.5004689624184\n",
      "3040.837530699908\n",
      "3008.192655676161\n",
      "993.5005927393213\n",
      "[{'properties': {'HeightLevel': 'small', 'SurfaceArea(m2)': 3000, 'SurfaceShape': '3I', 'comments': 'I place it here because', 'geomID': 32, 'height': 15, 'name': 'Office', 'nameID': 's_3I_P', 'viewColor': '#f9bb52'}, 'polygon': <shapely.geometry.polygon.Polygon object at 0x110f331d0>}, {'properties': {'HeightLevel': 'medium', 'SurfaceArea(m2)': 1000, 'SurfaceShape': '1o', 'comments': 'I place it here because', 'geomID': 33, 'height': 45, 'name': 'Office', 'nameID': 'M_1o_P', 'viewColor': '#f9bb52'}, 'polygon': <shapely.geometry.polygon.Polygon object at 0x110f33320>}, {'properties': {'HeightLevel': 'medium', 'SurfaceArea(m2)': 1000, 'SurfaceShape': '1o', 'comments': 'I place it here because', 'geomID': 35, 'height': 45, 'name': 'Commercial', 'nameID': 'M_1o_C', 'viewColor': '#89a3c2'}, 'polygon': <shapely.geometry.polygon.Polygon object at 0x110f337b8>}, {'properties': {'HeightLevel': 'tall', 'SurfaceArea(m2)': 1000, 'SurfaceShape': '1o', 'comments': 'I place it here because', 'geomID': 36, 'height': 90, 'name': 'Office', 'nameID': 'T_1o_P', 'viewColor': '#f9bb52'}, 'polygon': <shapely.geometry.polygon.Polygon object at 0x110f33630>}, {'properties': {'HeightLevel': 'small', 'SurfaceArea(m2)': 1000, 'SurfaceShape': '1o', 'comments': 'I place it here because', 'geomID': 38, 'height': 15, 'name': 'Office', 'nameID': 's_1o_P', 'viewColor': '#f9bb52'}, 'polygon': <shapely.geometry.polygon.Polygon object at 0x110f335c0>}, {'properties': {'HeightLevel': 'tall', 'SurfaceArea(m2)': 3000, 'SurfaceShape': '3L', 'comments': 'I place it here because', 'geomID': 39, 'height': 90, 'name': 'Commercial', 'nameID': 'T_3L_C', 'viewColor': '#89a3c2'}, 'polygon': <shapely.geometry.polygon.Polygon object at 0x110f33128>}, {'properties': {'HeightLevel': 'medium', 'SurfaceArea(m2)': 3000, 'SurfaceShape': '3L', 'comments': 'I place it here because', 'geomID': 40, 'height': 45, 'name': 'Office', 'nameID': 'm_3L_P', 'viewColor': '#f9bb52'}, 'polygon': <shapely.geometry.polygon.Polygon object at 0x110f33748>}, {'properties': {'HeightLevel': 'medium', 'SurfaceArea(m2)': 3000, 'SurfaceShape': '3L', 'comments': 'I place it here because', 'geomID': 49, 'height': 45, 'name': 'Residential', 'nameID': 'm_3L_R', 'viewColor': '#9081ca'}, 'polygon': <shapely.geometry.polygon.Polygon object at 0x110f33208>}, {'properties': {'HeightLevel': 'tall', 'SurfaceArea(m2)': 1000, 'SurfaceShape': '1o', 'comments': 'I place it here because', 'geomID': 50, 'height': 90, 'name': 'Commercial', 'nameID': 'T_1o_C', 'viewColor': '#89a3c2'}, 'polygon': <shapely.geometry.polygon.Polygon object at 0x110f33780>}, {'properties': {'HeightLevel': 'small', 'SurfaceArea(m2)': 3000, 'SurfaceShape': '3L', 'comments': 'I place it here because', 'geomID': 51, 'height': 15, 'name': 'Commercial', 'nameID': 's_3L_C', 'viewColor': '#89a3c2'}, 'polygon': <shapely.geometry.polygon.Polygon object at 0x110f33710>}, {'properties': {'HeightLevel': 'tall', 'SurfaceArea(m2)': 1000, 'SurfaceShape': '1o', 'comments': 'I place it here because', 'geomID': 52, 'height': 90, 'name': 'Commercial', 'nameID': 'T_1o_C', 'viewColor': '#89a3c2'}, 'polygon': <shapely.geometry.polygon.Polygon object at 0x110f33908>}, {'properties': {'HeightLevel': 'tall', 'SurfaceArea(m2)': 1000, 'SurfaceShape': '1o', 'comments': 'I place it here because', 'geomID': 53, 'height': 90, 'name': 'Residential', 'nameID': 'T_1o_R', 'viewColor': '#9081ca'}, 'polygon': <shapely.geometry.polygon.Polygon object at 0x110f338d0>}, {'properties': {'HeightLevel': 'tall', 'SurfaceArea(m2)': 1000, 'SurfaceShape': '1o', 'comments': 'I place it here because', 'geomID': 54, 'height': 90, 'name': 'Residential', 'nameID': 'T_1o_R', 'viewColor': '#9081ca'}, 'polygon': <shapely.geometry.polygon.Polygon object at 0x110f33898>}, {'properties': {'HeightLevel': 'medium', 'SurfaceArea(m2)': 1000, 'SurfaceShape': '1o', 'comments': 'I place it here because', 'geomID': 55, 'height': 45, 'name': 'Residential', 'nameID': 'M_1o_R', 'viewColor': '#9081ca'}, 'polygon': <shapely.geometry.polygon.Polygon object at 0x110f33860>}, {'properties': {'HeightLevel': 'tall', 'SurfaceArea(m2)': 1000, 'SurfaceShape': '1o', 'comments': 'I place it here because', 'geomID': 56, 'height': 90, 'name': 'Residential', 'nameID': 'T_1o_R', 'viewColor': '#9081ca'}, 'polygon': <shapely.geometry.polygon.Polygon object at 0x110f33828>}, {'properties': {'HeightLevel': 'tall', 'SurfaceArea(m2)': 1000, 'SurfaceShape': '1o', 'comments': 'I place it here because', 'geomID': 57, 'height': 90, 'name': 'Residential', 'nameID': 'T_1o_R', 'viewColor': '#9081ca'}, 'polygon': <shapely.geometry.polygon.Polygon object at 0x110f33a20>}, {'properties': {'HeightLevel': 'medium', 'SurfaceArea(m2)': 1000, 'SurfaceShape': '1o', 'comments': 'I place it here because', 'geomID': 58, 'height': 45, 'name': 'Residential', 'nameID': 'M_1o_R', 'viewColor': '#9081ca'}, 'polygon': <shapely.geometry.polygon.Polygon object at 0x110f339e8>}, {'properties': {'HeightLevel': 'tall', 'SurfaceArea(m2)': 1000, 'SurfaceShape': '1o', 'comments': 'I place it here because', 'geomID': 60, 'height': 90, 'name': 'Commercial', 'nameID': 'T_1o_C', 'viewColor': '#89a3c2'}, 'polygon': <shapely.geometry.polygon.Polygon object at 0x110f339b0>}, {'properties': {'HeightLevel': 'tall', 'SurfaceArea(m2)': 3000, 'SurfaceShape': '3I', 'comments': 'I place it here because', 'geomID': 61, 'height': 90, 'name': 'Commercial', 'nameID': 'T_3I_C', 'viewColor': '#89a3c2'}, 'polygon': <shapely.geometry.polygon.Polygon object at 0x110f33978>}, {'properties': {'HeightLevel': 'tall', 'SurfaceArea(m2)': 1000, 'SurfaceShape': '1o', 'comments': 'I place it here because', 'geomID': 62, 'height': 90, 'name': 'Office', 'nameID': 'T_1o_P', 'viewColor': '#f9bb52'}, 'polygon': <shapely.geometry.polygon.Polygon object at 0x110f337f0>}, {'properties': {'HeightLevel': 'medium', 'SurfaceArea(m2)': 1000, 'SurfaceShape': '1o', 'comments': 'I place it here because', 'geomID': 63, 'height': 45, 'name': 'Office', 'nameID': 'M_1o_P', 'viewColor': '#f9bb52'}, 'polygon': <shapely.geometry.polygon.Polygon object at 0x110f33ba8>}, {'properties': {'HeightLevel': 'medium', 'SurfaceArea(m2)': 1000, 'SurfaceShape': '1o', 'comments': 'I place it here because good view for condo', 'geomID': 64, 'height': 45, 'name': 'Residential', 'nameID': 'M_1o_R', 'viewColor': '#9081ca'}, 'polygon': <shapely.geometry.polygon.Polygon object at 0x110f33b70>}, {'properties': {'HeightLevel': 'medium', 'SurfaceArea(m2)': 1000, 'SurfaceShape': '1o', 'comments': 'I place it here because', 'geomID': 66, 'height': 45, 'name': 'Residential', 'nameID': 'M_1o_R', 'viewColor': '#9081ca'}, 'polygon': <shapely.geometry.polygon.Polygon object at 0x110f33940>}, {'properties': {'HeightLevel': 'medium', 'SurfaceArea(m2)': 1000, 'SurfaceShape': '1o', 'comments': 'I place it here because', 'geomID': 72, 'height': 45, 'name': 'Commercial', 'nameID': 'M_1o_C', 'viewColor': '#89a3c2'}, 'polygon': <shapely.geometry.polygon.Polygon object at 0x110f33b38>}, {'properties': {'HeightLevel': 'small', 'SurfaceArea(m2)': 1000, 'SurfaceShape': '1o', 'comments': 'I place it here because', 'geomID': 73, 'height': 15, 'name': 'Residential', 'nameID': 's_1o_R', 'viewColor': '#9081ca'}, 'polygon': <shapely.geometry.polygon.Polygon object at 0x110f33b00>}, {'properties': {'HeightLevel': 'small', 'SurfaceArea(m2)': 1000, 'SurfaceShape': '1o', 'comments': 'I place it here because', 'geomID': 74, 'height': 15, 'name': 'Residential', 'nameID': 's_1o_R', 'viewColor': '#9081ca'}, 'polygon': <shapely.geometry.polygon.Polygon object at 0x110f33ac8>}, {'properties': {'HeightLevel': 'tall', 'SurfaceArea(m2)': 1000, 'SurfaceShape': '1o', 'comments': 'I place it here because', 'geomID': 76, 'height': 90, 'name': 'Office', 'nameID': 'T_1o_P', 'viewColor': '#f9bb52'}, 'polygon': <shapely.geometry.polygon.Polygon object at 0x110f33c50>}, {'properties': {'HeightLevel': 'small', 'SurfaceArea(m2)': 3000, 'SurfaceShape': '3L', 'comments': 'I place it here because', 'geomID': 77, 'height': 15, 'name': 'Office', 'nameID': 's_3L_P', 'viewColor': '#f9bb52'}, 'polygon': <shapely.geometry.polygon.Polygon object at 0x110f33c18>}, {'properties': {'HeightLevel': 'small', 'SurfaceArea(m2)': 1000, 'SurfaceShape': '1o', 'comments': 'I place it here because', 'geomID': 79, 'height': 15, 'name': 'Residential', 'nameID': 's_1o_R', 'viewColor': '#9081ca'}, 'polygon': <shapely.geometry.polygon.Polygon object at 0x110f33be0>}, {'properties': {'HeightLevel': 'medium', 'SurfaceArea(m2)': 1000, 'SurfaceShape': '1o', 'comments': 'I place it here because', 'geomID': 80, 'height': 45, 'name': 'Residential', 'nameID': 'M_1o_R', 'viewColor': '#9081ca'}, 'polygon': <shapely.geometry.polygon.Polygon object at 0x110f33d30>}, {'properties': {'HeightLevel': 'tall', 'SurfaceArea(m2)': 1000, 'SurfaceShape': '1o', 'comments': 'I place it here because', 'geomID': 81, 'height': 90, 'name': 'Residential', 'nameID': 'T_1o_R', 'viewColor': '#9081ca'}, 'polygon': <shapely.geometry.polygon.Polygon object at 0x110f33cf8>}, {'properties': {'HeightLevel': 'small', 'SurfaceArea(m2)': 3000, 'SurfaceShape': '3L', 'comments': 'I place it here because', 'geomID': 82, 'height': 15, 'name': 'Commercial', 'nameID': 's_3L_C', 'viewColor': '#89a3c2'}, 'polygon': <shapely.geometry.polygon.Polygon object at 0x110f33cc0>}, {'properties': {'HeightLevel': 'medium', 'SurfaceArea(m2)': 3000, 'SurfaceShape': '3I', 'comments': 'I place it here because', 'geomID': 83, 'height': 45, 'name': 'Office', 'nameID': 'm_3l_P', 'viewColor': '#f9bb52'}, 'polygon': <shapely.geometry.polygon.Polygon object at 0x110f33a58>}, {'properties': {'HeightLevel': 'tall', 'SurfaceArea(m2)': 1000, 'SurfaceShape': '1o', 'comments': 'I place it here because', 'geomID': 84, 'height': 90, 'name': 'Office', 'nameID': 'T_1o_P', 'viewColor': '#f9bb52'}, 'polygon': <shapely.geometry.polygon.Polygon object at 0x110f33e80>}]\n",
      "False\n"
     ]
    }
   ],
   "source": [
    "for pp in fp:\n",
    "    poly = pp['polygon']\n",
    "    print(poly.area)\n",
    "print(fp)\n",
    "print(fp[0]['polygon'].intersects(fp[10]['polygon']))"
   ]
  },
  {
   "cell_type": "code",
   "execution_count": 99,
   "metadata": {},
   "outputs": [
    {
     "name": "stdout",
     "output_type": "stream",
     "text": [
      "[(215.075439453125, 134.30941772460938), (214.22634887695312, 103.47777557373047), (247.34097290039062, 103.76776885986328), (247.34097290039062, 73.52930450439453), (281.3047180175781, 74.41246795654297), (279.6065368652344, 135.49575805664062), (215.075439453125, 134.30941772460938)]\n"
     ]
    }
   ],
   "source": [
    "from shapely.geometry import Polygon\n",
    "oneshape1 = [\n",
    "                [\n",
    "                  -154.53488159179688,\n",
    "                  113.87541961669922\n",
    "                ],\n",
    "                [\n",
    "                  -170.66763305664062,\n",
    "                  113.57225036621094\n",
    "                ],\n",
    "                [\n",
    "                  -170.6676483154297,\n",
    "                  83.33378601074219\n",
    "                ],\n",
    "                [\n",
    "                  -137.55303955078125,\n",
    "                  83.62376403808594\n",
    "                ],\n",
    "  [\n",
    "                  -138.40211486816406,\n",
    "                  114.1654052734375,\n",
    "                ],\n",
    "]\n",
    "shape2=[\n",
    "[\n",
    "                  227.1302490234375,\n",
    "                  -65.12775421142578,\n",
    "                  45\n",
    "                ],\n",
    "                [\n",
    "                  210.9974822998047,\n",
    "                  -65.43091583251953,\n",
    "                  45\n",
    "                ],\n",
    "                [\n",
    "                  210.9974822998047,\n",
    "                  -95.66939544677734,\n",
    "                  45\n",
    "                ],\n",
    "                [\n",
    "                  244.1121063232422,\n",
    "                  -95.37940216064453,\n",
    "                  45\n",
    "                ],\n",
    "                [\n",
    "                  243.2630157470703,\n",
    "                  -64.8377456665039,\n",
    "                  45\n",
    "                ],\n",
    "                [\n",
    "                  227.1302490234375,\n",
    "                  -65.12775421142578,\n",
    "                  45\n",
    "                ]]\n",
    "\n",
    "shape3 =         [\n",
    "                [\n",
    "                  215.075439453125,\n",
    "                  134.30941772460938,\n",
    "                  90\n",
    "                ],\n",
    "                [\n",
    "                  214.22634887695312,\n",
    "                  103.47777557373047,\n",
    "                  90\n",
    "                ],\n",
    "                [\n",
    "                  247.34097290039062,\n",
    "                  103.76776885986328,\n",
    "                  90\n",
    "                ],\n",
    "                [\n",
    "                  247.34097290039062,\n",
    "                  73.52930450439453,\n",
    "                  90\n",
    "                ],\n",
    "                [\n",
    "                  281.3047180175781,\n",
    "                  74.41246795654297,\n",
    "                  90\n",
    "                ],\n",
    "                [\n",
    "                  279.6065368652344,\n",
    "                  135.49575805664062,\n",
    "                  90\n",
    "                ],\n",
    "                [\n",
    "                  215.075439453125,\n",
    "                  134.30941772460938,\n",
    "                  90\n",
    "                ]\n",
    "              ]\n",
    "shape3real = [(it[0],it[1]) for it in shape3]\n",
    "\n",
    "print(shape3real)"
   ]
  },
  {
   "cell_type": "code",
   "execution_count": 121,
   "metadata": {},
   "outputs": [
    {
     "data": {
      "image/svg+xml": [
       "<svg xmlns=\"http://www.w3.org/2000/svg\" xmlns:xlink=\"http://www.w3.org/1999/xlink\" width=\"100.0\" height=\"100.0\" viewBox=\"157.90638732910156 -173.056640625 35.7637939453125 33.4940185546875\" preserveAspectRatio=\"xMinYMin meet\"><g transform=\"matrix(1,0,0,-1,0,-312.6192626953125)\"><path fill-rule=\"evenodd\" fill=\"#66cc99\" stroke=\"#555555\" stroke-width=\"0.71527587890625\" opacity=\"0.6\" d=\"M 176.2128143310547,-141.19039916992188 L 159.23097229003906,-141.48040771484375 L 159.23097229003906,-171.7320556640625 L 192.34559631347656,-171.42886352539062 L 191.49647521972656,-140.88720703125 L 176.2128143310547,-141.19039916992188 z\" /></g></svg>"
      ],
      "text/plain": [
       "<shapely.geometry.polygon.Polygon at 0x110eb11d0>"
      ]
     },
     "execution_count": 121,
     "metadata": {},
     "output_type": "execute_result"
    }
   ],
   "source": [
    "polygon = Polygon(surface_xy)\n",
    "polygon"
   ]
  },
  {
   "cell_type": "code",
   "execution_count": null,
   "metadata": {},
   "outputs": [],
   "source": []
  }
 ],
 "metadata": {
  "kernelspec": {
   "display_name": "Python 3",
   "language": "python",
   "name": "python3"
  },
  "language_info": {
   "codemirror_mode": {
    "name": "ipython",
    "version": 3
   },
   "file_extension": ".py",
   "mimetype": "text/x-python",
   "name": "python",
   "nbconvert_exporter": "python",
   "pygments_lexer": "ipython3",
   "version": "3.7.0"
  }
 },
 "nbformat": 4,
 "nbformat_minor": 2
}
