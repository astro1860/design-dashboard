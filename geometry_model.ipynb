{
 "cells": [
  {
   "cell_type": "code",
   "execution_count": 180,
   "metadata": {},
   "outputs": [],
   "source": [
    "import json\n",
    "import requests\n",
    "from shapely.geometry import Polygon\n",
    "url = \"https://qua-kit.ethz.ch/exercise/33/1686/geometry\" # This is the geojson data to read "
   ]
  },
  {
   "cell_type": "code",
   "execution_count": 181,
   "metadata": {},
   "outputs": [],
   "source": [
    "%%bash\n",
    "touch toyeg.geojson"
   ]
  },
  {
   "cell_type": "code",
   "execution_count": 197,
   "metadata": {},
   "outputs": [],
   "source": [
    "# import geometry from url\n",
    "# (optional) save it to geojson locally \n",
    "f = requests.get(url).text\n",
    "with open('toyeg.geojson', 'w') as f_geo:\n",
    "    f_geo.write(f)\n"
   ]
  },
  {
   "cell_type": "code",
   "execution_count": 183,
   "metadata": {},
   "outputs": [],
   "source": [
    "fp = []\n",
    "b = json.loads(f) # load: convert json --> python list \n",
    "for i, feature in enumerate(b[\"geometry\"][\"features\"]):\n",
    "    p = feature[\"properties\"] # p store all the properties \n",
    "    if 'special' not in p.keys():\n",
    "        \n",
    "        cg = feature['geometry']['coordinates'] # cg is the geometry coordinates of all surfaces\n",
    "        surface_t = cg[0][0] # can use other method to detect if it is really the top \n",
    "        surface_xy = [(it[0],it[1]) for it in surface_t]\n",
    "        footprint = Polygon(surface_xy)\n",
    "        # print(footprint.area)\n",
    "        # set new list that contains the info\n",
    "        fp.append({\"properties\":feature['properties'], \"polygon\": footprint})"
   ]
  },
  {
   "cell_type": "code",
   "execution_count": 199,
   "metadata": {},
   "outputs": [
    {
     "name": "stdout",
     "output_type": "stream",
     "text": [
      "1987.2484575081617\n"
     ]
    },
    {
     "data": {
      "image/svg+xml": [
       "<svg xmlns=\"http://www.w3.org/2000/svg\" xmlns:xlink=\"http://www.w3.org/1999/xlink\" width=\"100.0\" height=\"201.7588018798828\" viewBox=\"249.5454266357422 -228.5725848388672 79.48193115234378 201.7588018798828\" preserveAspectRatio=\"xMinYMin meet\"><g transform=\"matrix(1,0,0,-1,0,-255.38636779785156)\"><g><path fill-rule=\"evenodd\" fill=\"#ff3333\" stroke=\"#555555\" stroke-width=\"2.0\" opacity=\"0.6\" d=\"M 276.22357177734375,-190.55838012695312 L 292.35638427734375,-190.26840209960938 L 293.2054443359375,-220.81005859375 L 260.0908203125,-221.10003662109375 L 260.0908203125,-190.861572265625 L 276.22357177734375,-190.55838012695312 z\" /><path fill-rule=\"evenodd\" fill=\"#ff3333\" stroke=\"#555555\" stroke-width=\"2.0\" opacity=\"0.6\" d=\"M 321.5548095703125,-34.46627426147461 L 288.439453125,-34.28633117675781 L 288.439453125,-34.28633117675781 L 321.5548095703125,-34.46627426147461 L 321.5548095703125,-34.46627426147461 z\" /><path fill-rule=\"evenodd\" fill=\"#ff3333\" stroke=\"#555555\" stroke-width=\"2.0\" opacity=\"0.6\" d=\"M 273.9998474121094,-65.9385757446289 L 289.28350830078125,-65.6353988647461 L 290.1325988769531,-96.17704010009766 L 257.01800537109375,-96.48023223876953 L 257.0179748535156,-66.22858428955078 L 273.9998474121094,-65.9385757446289 z\" /></g></g></svg>"
      ],
      "text/plain": [
       "<shapely.geometry.multipolygon.MultiPolygon at 0x1092230f0>"
      ]
     },
     "execution_count": 199,
     "metadata": {},
     "output_type": "execute_result"
    }
   ],
   "source": [
    "# test for Python Geo Interface \n",
    "# It might be wrong since it also consider the walls \n",
    "# Results can be seen from the visualizaiton of cascading. \n",
    "from shapely.geometry import shape\n",
    "from shapely.ops import cascaded_union\n",
    "b = json.loads(f)\n",
    "shapeunion = []\n",
    "for i, feature in enumerate(b[\"geometry\"][\"features\"]):\n",
    "    if 'special' not in feature[\"properties\"].keys():\n",
    "        d = shape(feature['geometry'])\n",
    "        shapeunion.append(d)\n",
    "        #print(d.area)\n",
    "print(cascaded_union(shapeunion).area)\n",
    "cascaded_union(shapeunion)"
   ]
  },
  {
   "cell_type": "code",
   "execution_count": 196,
   "metadata": {},
   "outputs": [
    {
     "name": "stdout",
     "output_type": "stream",
     "text": [
      "8085.612841219941\n"
     ]
    },
    {
     "data": {
      "image/svg+xml": [
       "<svg xmlns=\"http://www.w3.org/2000/svg\" xmlns:xlink=\"http://www.w3.org/1999/xlink\" width=\"100.0\" height=\"237.9890112876892\" viewBox=\"245.69482374191284 -233.22549486160278 85.914231300354 237.9890112876892\" preserveAspectRatio=\"xMinYMin meet\"><g transform=\"matrix(1,0,0,-1,0,-228.46197843551636)\"><g><path fill-rule=\"evenodd\" fill=\"#66cc99\" stroke=\"#555555\" stroke-width=\"2.0\" opacity=\"0.6\" d=\"M 269.5266523394033,-190.68423921127157 L 276.22357177734375,-190.55838012695312 L 291.24435937152657,-190.28839010780982 L 291.97894287109375,-158.8843231201172 L 322.7946472167969,-159.8751983642578 L 321.9064636230469,-224.4110870361328 L 260.8001708984375,-224.1453094482422 L 260.81892573978115,-221.09366074995742 L 260.0908203125,-221.10003662109375 L 260.0908203125,-190.861572265625 L 261.00483186505807,-190.8443947173317 L 261.00897216796875,-190.17071533203125 L 269.5266523394033,-190.68423921127157 z\" /><path fill-rule=\"evenodd\" fill=\"#66cc99\" stroke=\"#555555\" stroke-width=\"2.0\" opacity=\"0.6\" d=\"M 290.13096844522465,-96.11839375269147 L 290.1325988769531,-96.17704010009766 L 257.01800537109375,-96.48023223876953 L 257.0179748535156,-66.22858428955078 L 258.8735534415815,-66.19689557887082 L 254.5092315673828,-66.23511505126953 L 255.33050909763452,-36.413938612830286 L 254.8957061767578,-4.4520063400268555 L 288.8685302734375,-4.050891399383545 L 288.439453125,-34.28633117675781 L 309.8093262128519,-34.40245134867216 L 319.889404296875,-34.217140197753906 L 319.8960800345812,-34.45726101380315 L 321.5548095703125,-34.46627426147461 L 320.5592952946265,-58.31257056428682 L 321.5876159667969,-95.30042266845703 L 290.13096844522465,-96.11839375269147 z\" /></g></g></svg>"
      ],
      "text/plain": [
       "<shapely.geometry.multipolygon.MultiPolygon at 0x110eff2b0>"
      ]
     },
     "execution_count": 196,
     "metadata": {},
     "output_type": "execute_result"
    }
   ],
   "source": [
    "polyunion = []\n",
    "for pp in fp:\n",
    "    poly = pp['polygon']\n",
    "    #print(poly.area)\n",
    "    polyunion.append(poly)\n",
    "\n",
    "print(cascaded_union(polyunion).area)\n",
    "cascaded_union(polyunion)\n"
   ]
  },
  {
   "cell_type": "code",
   "execution_count": 99,
   "metadata": {},
   "outputs": [
    {
     "name": "stdout",
     "output_type": "stream",
     "text": [
      "[(215.075439453125, 134.30941772460938), (214.22634887695312, 103.47777557373047), (247.34097290039062, 103.76776885986328), (247.34097290039062, 73.52930450439453), (281.3047180175781, 74.41246795654297), (279.6065368652344, 135.49575805664062), (215.075439453125, 134.30941772460938)]\n"
     ]
    }
   ],
   "source": [
    "from shapely.geometry import Polygon\n",
    "oneshape1 = [\n",
    "                [\n",
    "                  -154.53488159179688,\n",
    "                  113.87541961669922\n",
    "                ],\n",
    "                [\n",
    "                  -170.66763305664062,\n",
    "                  113.57225036621094\n",
    "                ],\n",
    "                [\n",
    "                  -170.6676483154297,\n",
    "                  83.33378601074219\n",
    "                ],\n",
    "                [\n",
    "                  -137.55303955078125,\n",
    "                  83.62376403808594\n",
    "                ],\n",
    "  [\n",
    "                  -138.40211486816406,\n",
    "                  114.1654052734375,\n",
    "                ],\n",
    "]\n",
    "shape2=[\n",
    "[\n",
    "                  227.1302490234375,\n",
    "                  -65.12775421142578,\n",
    "                  45\n",
    "                ],\n",
    "                [\n",
    "                  210.9974822998047,\n",
    "                  -65.43091583251953,\n",
    "                  45\n",
    "                ],\n",
    "                [\n",
    "                  210.9974822998047,\n",
    "                  -95.66939544677734,\n",
    "                  45\n",
    "                ],\n",
    "                [\n",
    "                  244.1121063232422,\n",
    "                  -95.37940216064453,\n",
    "                  45\n",
    "                ],\n",
    "                [\n",
    "                  243.2630157470703,\n",
    "                  -64.8377456665039,\n",
    "                  45\n",
    "                ],\n",
    "                [\n",
    "                  227.1302490234375,\n",
    "                  -65.12775421142578,\n",
    "                  45\n",
    "                ]]\n",
    "\n",
    "shape3 =         [\n",
    "                [\n",
    "                  215.075439453125,\n",
    "                  134.30941772460938,\n",
    "                  90\n",
    "                ],\n",
    "                [\n",
    "                  214.22634887695312,\n",
    "                  103.47777557373047,\n",
    "                  90\n",
    "                ],\n",
    "                [\n",
    "                  247.34097290039062,\n",
    "                  103.76776885986328,\n",
    "                  90\n",
    "                ],\n",
    "                [\n",
    "                  247.34097290039062,\n",
    "                  73.52930450439453,\n",
    "                  90\n",
    "                ],\n",
    "                [\n",
    "                  281.3047180175781,\n",
    "                  74.41246795654297,\n",
    "                  90\n",
    "                ],\n",
    "                [\n",
    "                  279.6065368652344,\n",
    "                  135.49575805664062,\n",
    "                  90\n",
    "                ],\n",
    "                [\n",
    "                  215.075439453125,\n",
    "                  134.30941772460938,\n",
    "                  90\n",
    "                ]\n",
    "              ]\n",
    "shape3real = [(it[0],it[1]) for it in shape3]\n",
    "\n",
    "print(shape3real)"
   ]
  },
  {
   "cell_type": "code",
   "execution_count": 121,
   "metadata": {},
   "outputs": [
    {
     "data": {
      "image/svg+xml": [
       "<svg xmlns=\"http://www.w3.org/2000/svg\" xmlns:xlink=\"http://www.w3.org/1999/xlink\" width=\"100.0\" height=\"100.0\" viewBox=\"157.90638732910156 -173.056640625 35.7637939453125 33.4940185546875\" preserveAspectRatio=\"xMinYMin meet\"><g transform=\"matrix(1,0,0,-1,0,-312.6192626953125)\"><path fill-rule=\"evenodd\" fill=\"#66cc99\" stroke=\"#555555\" stroke-width=\"0.71527587890625\" opacity=\"0.6\" d=\"M 176.2128143310547,-141.19039916992188 L 159.23097229003906,-141.48040771484375 L 159.23097229003906,-171.7320556640625 L 192.34559631347656,-171.42886352539062 L 191.49647521972656,-140.88720703125 L 176.2128143310547,-141.19039916992188 z\" /></g></svg>"
      ],
      "text/plain": [
       "<shapely.geometry.polygon.Polygon at 0x110eb11d0>"
      ]
     },
     "execution_count": 121,
     "metadata": {},
     "output_type": "execute_result"
    }
   ],
   "source": [
    "polygon = Polygon(surface_xy)\n",
    "polygon"
   ]
  },
  {
   "cell_type": "code",
   "execution_count": 200,
   "metadata": {},
   "outputs": [
    {
     "data": {
      "text/plain": [
       "3.136548490545939"
      ]
     },
     "execution_count": 200,
     "metadata": {},
     "output_type": "execute_result"
    }
   ],
   "source": [
    "from shapely.geometry import shape\n",
    "shape({'type': 'Point', 'coordinates': (0.0, 0.0)}).buffer(1.0).area"
   ]
  },
  {
   "cell_type": "code",
   "execution_count": null,
   "metadata": {},
   "outputs": [],
   "source": []
  }
 ],
 "metadata": {
  "kernelspec": {
   "display_name": "Python 3",
   "language": "python",
   "name": "python3"
  },
  "language_info": {
   "codemirror_mode": {
    "name": "ipython",
    "version": 3
   },
   "file_extension": ".py",
   "mimetype": "text/x-python",
   "name": "python",
   "nbconvert_exporter": "python",
   "pygments_lexer": "ipython3",
   "version": "3.7.0"
  }
 },
 "nbformat": 4,
 "nbformat_minor": 2
}
